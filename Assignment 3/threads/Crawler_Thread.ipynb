{
  "nbformat": 4,
  "nbformat_minor": 0,
  "metadata": {
    "colab": {
      "name": "Crawler_Thread.ipynb",
      "provenance": [],
      "collapsed_sections": []
    },
    "kernelspec": {
      "name": "python3",
      "display_name": "Python 3"
    }
  },
  "cells": [
    {
      "cell_type": "code",
      "metadata": {
        "id": "F-mFXEz06JP-",
        "colab_type": "code",
        "colab": {
          "base_uri": "https://localhost:8080/",
          "height": 423
        },
        "outputId": "24e995c7-2ebf-495d-ebb9-980c23d3e1c8"
      },
      "source": [
        "from icrawler.builtin import GoogleImageCrawler\n",
        "\n",
        "from datetime import datetime\n",
        "\n",
        "now = datetime.now()\n",
        "\n",
        "current_time = now.strftime(\"%H:%M:%S\")\n",
        "print(\"Current Time =\", current_time)\n",
        "\n",
        "google_crawler = GoogleImageCrawler(\n",
        "    feeder_threads=1,\n",
        "    parser_threads=1,\n",
        "    downloader_threads=1,\n",
        "    storage={'root_dir': 'your_image_dir'})\n",
        "filters = dict(\n",
        "    size='large',\n",
        "    color='orange',\n",
        "    license='commercial,modify',\n",
        "    date=((2016, 1, 1), (2016, 12, 31)))\n",
        "google_crawler.crawl(keyword='Donald Trump', filters=filters, max_num=1000, file_idx_offset=0)\n",
        "\n",
        "\n",
        "now1 = datetime.now()\n",
        "\n",
        "current_time = now1.strftime(\"%H:%M:%S\")\n",
        "print(\"Current Time =\", current_time)"
      ],
      "execution_count": 3,
      "outputs": [
        {
          "output_type": "stream",
          "text": [
            "2020-03-12 18:02:47,200 - INFO - icrawler.crawler - start crawling...\n",
            "2020-03-12 18:02:47,201 - INFO - icrawler.crawler - starting 1 feeder threads...\n",
            "2020-03-12 18:02:47,206 - INFO - icrawler.crawler - starting 1 parser threads...\n",
            "2020-03-12 18:02:47,211 - INFO - icrawler.crawler - starting 1 downloader threads...\n"
          ],
          "name": "stderr"
        },
        {
          "output_type": "stream",
          "text": [
            "Current Time = 18:02:47\n"
          ],
          "name": "stdout"
        },
        {
          "output_type": "stream",
          "text": [
            "2020-03-12 18:02:48,098 - INFO - parser - parsing result page https://www.google.com/search?q=Donald+Trump&ijn=0&start=0&tbs=isz%3Al%2Cic%3Aspecific%2Cisc%3Aorange%2Csur%3Afmc%2Ccdr%3A1%2Ccd_min%3A01%2F01%2F2016%2Ccd_max%3A12%2F31%2F2016&tbm=isch\n",
            "2020-03-12 18:02:48,431 - INFO - parser - parsing result page https://www.google.com/search?q=Donald+Trump&ijn=1&start=100&tbs=isz%3Al%2Cic%3Aspecific%2Cisc%3Aorange%2Csur%3Afmc%2Ccdr%3A1%2Ccd_min%3A01%2F01%2F2016%2Ccd_max%3A12%2F31%2F2016&tbm=isch\n",
            "2020-03-12 18:02:48,854 - INFO - parser - parsing result page https://www.google.com/search?q=Donald+Trump&ijn=2&start=200&tbs=isz%3Al%2Cic%3Aspecific%2Cisc%3Aorange%2Csur%3Afmc%2Ccdr%3A1%2Ccd_min%3A01%2F01%2F2016%2Ccd_max%3A12%2F31%2F2016&tbm=isch\n",
            "2020-03-12 18:02:49,185 - INFO - parser - parsing result page https://www.google.com/search?q=Donald+Trump&ijn=3&start=300&tbs=isz%3Al%2Cic%3Aspecific%2Cisc%3Aorange%2Csur%3Afmc%2Ccdr%3A1%2Ccd_min%3A01%2F01%2F2016%2Ccd_max%3A12%2F31%2F2016&tbm=isch\n",
            "2020-03-12 18:02:49,234 - INFO - feeder - thread feeder-001 exit\n",
            "2020-03-12 18:02:49,656 - INFO - parser - parsing result page https://www.google.com/search?q=Donald+Trump&ijn=4&start=400&tbs=isz%3Al%2Cic%3Aspecific%2Cisc%3Aorange%2Csur%3Afmc%2Ccdr%3A1%2Ccd_min%3A01%2F01%2F2016%2Ccd_max%3A12%2F31%2F2016&tbm=isch\n",
            "2020-03-12 18:02:50,004 - INFO - parser - parsing result page https://www.google.com/search?q=Donald+Trump&ijn=5&start=500&tbs=isz%3Al%2Cic%3Aspecific%2Cisc%3Aorange%2Csur%3Afmc%2Ccdr%3A1%2Ccd_min%3A01%2F01%2F2016%2Ccd_max%3A12%2F31%2F2016&tbm=isch\n",
            "2020-03-12 18:02:50,357 - INFO - parser - parsing result page https://www.google.com/search?q=Donald+Trump&ijn=6&start=600&tbs=isz%3Al%2Cic%3Aspecific%2Cisc%3Aorange%2Csur%3Afmc%2Ccdr%3A1%2Ccd_min%3A01%2F01%2F2016%2Ccd_max%3A12%2F31%2F2016&tbm=isch\n",
            "2020-03-12 18:02:50,678 - INFO - parser - parsing result page https://www.google.com/search?q=Donald+Trump&ijn=7&start=700&tbs=isz%3Al%2Cic%3Aspecific%2Cisc%3Aorange%2Csur%3Afmc%2Ccdr%3A1%2Ccd_min%3A01%2F01%2F2016%2Ccd_max%3A12%2F31%2F2016&tbm=isch\n",
            "2020-03-12 18:02:51,026 - INFO - parser - parsing result page https://www.google.com/search?q=Donald+Trump&ijn=8&start=800&tbs=isz%3Al%2Cic%3Aspecific%2Cisc%3Aorange%2Csur%3Afmc%2Ccdr%3A1%2Ccd_min%3A01%2F01%2F2016%2Ccd_max%3A12%2F31%2F2016&tbm=isch\n",
            "2020-03-12 18:02:51,380 - INFO - parser - parsing result page https://www.google.com/search?q=Donald+Trump&ijn=9&start=900&tbs=isz%3Al%2Cic%3Aspecific%2Cisc%3Aorange%2Csur%3Afmc%2Ccdr%3A1%2Ccd_min%3A01%2F01%2F2016%2Ccd_max%3A12%2F31%2F2016&tbm=isch\n",
            "2020-03-12 18:02:52,217 - INFO - downloader - downloader-001 is waiting for new download tasks\n",
            "2020-03-12 18:02:53,425 - INFO - parser - no more page urls for thread parser-001 to parse\n",
            "2020-03-12 18:02:53,426 - INFO - parser - thread parser-001 exit\n",
            "2020-03-12 18:02:57,219 - INFO - downloader - no more download task for thread downloader-001\n",
            "2020-03-12 18:02:57,220 - INFO - downloader - thread downloader-001 exit\n",
            "2020-03-12 18:02:57,232 - INFO - icrawler.crawler - Crawling task done!\n"
          ],
          "name": "stderr"
        },
        {
          "output_type": "stream",
          "text": [
            "Current Time = 18:02:57\n"
          ],
          "name": "stdout"
        }
      ]
    },
    {
      "cell_type": "code",
      "metadata": {
        "id": "Tw5r-VyP6h8h",
        "colab_type": "code",
        "colab": {
          "base_uri": "https://localhost:8080/",
          "height": 34
        },
        "outputId": "1855db03-b99e-402b-d048-8ba825a72da8"
      },
      "source": [
        "print(now1-now)"
      ],
      "execution_count": 4,
      "outputs": [
        {
          "output_type": "stream",
          "text": [
            "0:00:10.034208\n"
          ],
          "name": "stdout"
        }
      ]
    },
    {
      "cell_type": "code",
      "metadata": {
        "id": "xPwsmoHX6mYC",
        "colab_type": "code",
        "colab": {
          "base_uri": "https://localhost:8080/",
          "height": 742
        },
        "outputId": "46ccd699-678d-49cb-daed-10b1534b2a91"
      },
      "source": [
        "from icrawler.builtin import GoogleImageCrawler\n",
        "\n",
        "from datetime import datetime\n",
        "\n",
        "now = datetime.now()\n",
        "\n",
        "current_time = now.strftime(\"%H:%M:%S\")\n",
        "print(\"Current Time =\", current_time)\n",
        "\n",
        "google_crawler = GoogleImageCrawler(\n",
        "    feeder_threads=5,\n",
        "    parser_threads=5,\n",
        "    downloader_threads=5,\n",
        "    storage={'root_dir': 'your_image_dir'})\n",
        "filters = dict(\n",
        "    size='large',\n",
        "    color='orange',\n",
        "    license='commercial,modify',\n",
        "    date=((2016, 1, 1), (2016, 12, 31)))\n",
        "google_crawler.crawl(keyword='Donald Trump', filters=filters, max_num=1000, file_idx_offset=0)\n",
        "\n",
        "\n",
        "now1 = datetime.now()\n",
        "\n",
        "current_time = now1.strftime(\"%H:%M:%S\")\n",
        "print(\"Current Time =\", current_time)"
      ],
      "execution_count": 5,
      "outputs": [
        {
          "output_type": "stream",
          "text": [
            "2020-03-12 18:04:01,608 - INFO - icrawler.crawler - start crawling...\n",
            "2020-03-12 18:04:01,610 - INFO - icrawler.crawler - starting 5 feeder threads...\n",
            "2020-03-12 18:04:01,618 - INFO - feeder - thread feeder-001 exit\n",
            "2020-03-12 18:04:01,622 - INFO - feeder - thread feeder-004 exit\n",
            "2020-03-12 18:04:01,625 - INFO - feeder - thread feeder-005 exit\n",
            "2020-03-12 18:04:01,619 - INFO - feeder - thread feeder-002 exit\n",
            "2020-03-12 18:04:01,625 - INFO - icrawler.crawler - starting 5 parser threads...\n",
            "2020-03-12 18:04:01,620 - INFO - feeder - thread feeder-003 exit\n",
            "2020-03-12 18:04:01,644 - INFO - icrawler.crawler - starting 5 downloader threads...\n"
          ],
          "name": "stderr"
        },
        {
          "output_type": "stream",
          "text": [
            "Current Time = 18:04:01\n"
          ],
          "name": "stdout"
        },
        {
          "output_type": "stream",
          "text": [
            "2020-03-12 18:04:01,965 - INFO - parser - parsing result page https://www.google.com/search?q=Donald+Trump&ijn=0&start=0&tbs=isz%3Al%2Cic%3Aspecific%2Cisc%3Aorange%2Csur%3Afmc%2Ccdr%3A1%2Ccd_min%3A01%2F01%2F2016%2Ccd_max%3A12%2F31%2F2016&tbm=isch\n",
            "2020-03-12 18:04:02,071 - INFO - parser - parsing result page https://www.google.com/search?q=Donald+Trump&ijn=1&start=100&tbs=isz%3Al%2Cic%3Aspecific%2Cisc%3Aorange%2Csur%3Afmc%2Ccdr%3A1%2Ccd_min%3A01%2F01%2F2016%2Ccd_max%3A12%2F31%2F2016&tbm=isch\n",
            "2020-03-12 18:04:02,074 - INFO - parser - parsing result page https://www.google.com/search?q=Donald+Trump&ijn=4&start=400&tbs=isz%3Al%2Cic%3Aspecific%2Cisc%3Aorange%2Csur%3Afmc%2Ccdr%3A1%2Ccd_min%3A01%2F01%2F2016%2Ccd_max%3A12%2F31%2F2016&tbm=isch\n",
            "2020-03-12 18:04:02,078 - INFO - parser - parsing result page https://www.google.com/search?q=Donald+Trump&ijn=2&start=200&tbs=isz%3Al%2Cic%3Aspecific%2Cisc%3Aorange%2Csur%3Afmc%2Ccdr%3A1%2Ccd_min%3A01%2F01%2F2016%2Ccd_max%3A12%2F31%2F2016&tbm=isch\n",
            "2020-03-12 18:04:02,358 - INFO - parser - parsing result page https://www.google.com/search?q=Donald+Trump&ijn=3&start=300&tbs=isz%3Al%2Cic%3Aspecific%2Cisc%3Aorange%2Csur%3Afmc%2Ccdr%3A1%2Ccd_min%3A01%2F01%2F2016%2Ccd_max%3A12%2F31%2F2016&tbm=isch\n",
            "2020-03-12 18:04:02,422 - INFO - parser - parsing result page https://www.google.com/search?q=Donald+Trump&ijn=5&start=500&tbs=isz%3Al%2Cic%3Aspecific%2Cisc%3Aorange%2Csur%3Afmc%2Ccdr%3A1%2Ccd_min%3A01%2F01%2F2016%2Ccd_max%3A12%2F31%2F2016&tbm=isch\n",
            "2020-03-12 18:04:02,624 - INFO - parser - parsing result page https://www.google.com/search?q=Donald+Trump&ijn=6&start=600&tbs=isz%3Al%2Cic%3Aspecific%2Cisc%3Aorange%2Csur%3Afmc%2Ccdr%3A1%2Ccd_min%3A01%2F01%2F2016%2Ccd_max%3A12%2F31%2F2016&tbm=isch\n",
            "2020-03-12 18:04:02,691 - INFO - parser - parsing result page https://www.google.com/search?q=Donald+Trump&ijn=7&start=700&tbs=isz%3Al%2Cic%3Aspecific%2Cisc%3Aorange%2Csur%3Afmc%2Ccdr%3A1%2Ccd_min%3A01%2F01%2F2016%2Ccd_max%3A12%2F31%2F2016&tbm=isch\n",
            "2020-03-12 18:04:02,754 - INFO - parser - parsing result page https://www.google.com/search?q=Donald+Trump&ijn=9&start=900&tbs=isz%3Al%2Cic%3Aspecific%2Cisc%3Aorange%2Csur%3Afmc%2Ccdr%3A1%2Ccd_min%3A01%2F01%2F2016%2Ccd_max%3A12%2F31%2F2016&tbm=isch\n",
            "2020-03-12 18:04:02,763 - INFO - parser - parsing result page https://www.google.com/search?q=Donald+Trump&ijn=8&start=800&tbs=isz%3Al%2Cic%3Aspecific%2Cisc%3Aorange%2Csur%3Afmc%2Ccdr%3A1%2Ccd_min%3A01%2F01%2F2016%2Ccd_max%3A12%2F31%2F2016&tbm=isch\n",
            "2020-03-12 18:04:04,474 - INFO - parser - no more page urls for thread parser-001 to parse\n",
            "2020-03-12 18:04:04,475 - INFO - parser - thread parser-001 exit\n",
            "2020-03-12 18:04:04,682 - INFO - parser - no more page urls for thread parser-003 to parse\n",
            "2020-03-12 18:04:04,683 - INFO - parser - thread parser-003 exit\n",
            "2020-03-12 18:04:04,751 - INFO - parser - no more page urls for thread parser-002 to parse\n",
            "2020-03-12 18:04:04,752 - INFO - parser - thread parser-002 exit\n",
            "2020-03-12 18:04:04,810 - INFO - parser - no more page urls for thread parser-004 to parse\n",
            "2020-03-12 18:04:04,811 - INFO - parser - thread parser-004 exit\n",
            "2020-03-12 18:04:04,847 - INFO - parser - no more page urls for thread parser-005 to parse\n",
            "2020-03-12 18:04:04,848 - INFO - parser - thread parser-005 exit\n",
            "2020-03-12 18:04:06,669 - INFO - downloader - no more download task for thread downloader-001\n",
            "2020-03-12 18:04:06,671 - INFO - downloader - thread downloader-001 exit\n",
            "2020-03-12 18:04:06,673 - INFO - downloader - no more download task for thread downloader-002\n",
            "2020-03-12 18:04:06,674 - INFO - downloader - no more download task for thread downloader-005\n",
            "2020-03-12 18:04:06,674 - INFO - downloader - no more download task for thread downloader-003\n",
            "2020-03-12 18:04:06,675 - INFO - downloader - no more download task for thread downloader-004\n",
            "2020-03-12 18:04:06,680 - INFO - downloader - thread downloader-004 exit\n",
            "2020-03-12 18:04:06,676 - INFO - downloader - thread downloader-005 exit\n",
            "2020-03-12 18:04:06,678 - INFO - downloader - thread downloader-003 exit\n",
            "2020-03-12 18:04:06,675 - INFO - downloader - thread downloader-002 exit\n",
            "2020-03-12 18:04:07,682 - INFO - icrawler.crawler - Crawling task done!\n"
          ],
          "name": "stderr"
        },
        {
          "output_type": "stream",
          "text": [
            "Current Time = 18:04:07\n"
          ],
          "name": "stdout"
        }
      ]
    },
    {
      "cell_type": "code",
      "metadata": {
        "id": "-xuZCIBo6xzM",
        "colab_type": "code",
        "colab": {
          "base_uri": "https://localhost:8080/",
          "height": 34
        },
        "outputId": "3dfbe366-8989-449f-d06c-82a68563ab6f"
      },
      "source": [
        "print(now1-now)"
      ],
      "execution_count": 6,
      "outputs": [
        {
          "output_type": "stream",
          "text": [
            "0:00:06.079837\n"
          ],
          "name": "stdout"
        }
      ]
    },
    {
      "cell_type": "code",
      "metadata": {
        "id": "0xRe0U1V6WUJ",
        "colab_type": "code",
        "colab": {
          "base_uri": "https://localhost:8080/",
          "height": 235
        },
        "outputId": "397873b8-fa47-4e65-bce3-e031fc7d5115"
      },
      "source": [
        "pip install icrawler\n"
      ],
      "execution_count": 2,
      "outputs": [
        {
          "output_type": "stream",
          "text": [
            "Collecting icrawler\n",
            "  Downloading https://files.pythonhosted.org/packages/78/a2/1ac26a2c39b87bef4ef8cb39cb4f33e04041f4a9f04f8cc3dfa1251e0304/icrawler-0.6.2-py2.py3-none-any.whl\n",
            "Requirement already satisfied: six>=1.10.0 in /usr/local/lib/python3.6/dist-packages (from icrawler) (1.12.0)\n",
            "Requirement already satisfied: requests>=2.9.1 in /usr/local/lib/python3.6/dist-packages (from icrawler) (2.21.0)\n",
            "Requirement already satisfied: lxml in /usr/local/lib/python3.6/dist-packages (from icrawler) (4.2.6)\n",
            "Requirement already satisfied: Pillow in /usr/local/lib/python3.6/dist-packages (from icrawler) (6.2.2)\n",
            "Requirement already satisfied: beautifulsoup4>=4.4.1 in /usr/local/lib/python3.6/dist-packages (from icrawler) (4.6.3)\n",
            "Requirement already satisfied: idna<2.9,>=2.5 in /usr/local/lib/python3.6/dist-packages (from requests>=2.9.1->icrawler) (2.8)\n",
            "Requirement already satisfied: chardet<3.1.0,>=3.0.2 in /usr/local/lib/python3.6/dist-packages (from requests>=2.9.1->icrawler) (3.0.4)\n",
            "Requirement already satisfied: urllib3<1.25,>=1.21.1 in /usr/local/lib/python3.6/dist-packages (from requests>=2.9.1->icrawler) (1.24.3)\n",
            "Requirement already satisfied: certifi>=2017.4.17 in /usr/local/lib/python3.6/dist-packages (from requests>=2.9.1->icrawler) (2019.11.28)\n",
            "Installing collected packages: icrawler\n",
            "Successfully installed icrawler-0.6.2\n"
          ],
          "name": "stdout"
        }
      ]
    }
  ]
}